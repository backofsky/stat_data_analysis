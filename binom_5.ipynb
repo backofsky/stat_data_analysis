{
 "cells": [
  {
   "cell_type": "markdown",
   "metadata": {
    "id": "NcfeYIesAMNB"
   },
   "source": [
    "\n",
    "**Биномиальный закон с параметрами:**\n",
    "\n",
    " **n=100, p=0,05.**\n"
   ]
  },
  {
   "cell_type": "code",
   "execution_count": 1,
   "metadata": {
    "executionInfo": {
     "elapsed": 1650,
     "status": "ok",
     "timestamp": 1675041809495,
     "user": {
      "displayName": "Никита Быковский",
      "userId": "03936530220962806273"
     },
     "user_tz": -180
    },
    "id": "F0xKI2THD35t"
   },
   "outputs": [],
   "source": [
    "import pandas as pd\n",
    "import numpy as np\n",
    "import scipy.stats as stats\n",
    "import matplotlib.pyplot as plt\n",
    "import statsmodels.api as sm"
   ]
  },
  {
   "cell_type": "markdown",
   "metadata": {
    "id": "tT4-wgfjAsSu"
   },
   "source": [
    "**$1.$ Получить 100 случайных значений случайной величины, распределенной по заданному закону.**"
   ]
  },
  {
   "cell_type": "code",
   "execution_count": 2,
   "metadata": {
    "colab": {
     "base_uri": "https://localhost:8080/"
    },
    "executionInfo": {
     "elapsed": 286,
     "status": "ok",
     "timestamp": 1675041821742,
     "user": {
      "displayName": "Никита Быковский",
      "userId": "03936530220962806273"
     },
     "user_tz": -180
    },
    "id": "PgJuy1bEAM_t",
    "outputId": "e6a6771e-82e0-4c49-c61b-817b20993c30"
   },
   "outputs": [
    {
     "data": {
      "text/plain": [
       "array([ 4,  9,  6,  5,  3,  3,  2,  7,  5,  6,  1,  9,  7,  3,  3,  3,  4,\n",
       "        5,  4,  4,  5,  3,  4,  4,  5,  7,  3,  5,  5,  2,  5,  3,  2,  9,\n",
       "        9,  7,  4,  2,  6,  5,  3,  5,  1,  8,  4,  6,  4,  5,  5,  3,  9,\n",
       "        7,  9,  8,  5,  8,  2,  3,  2,  4,  4,  4,  7,  4,  4,  5,  3,  7,\n",
       "        2, 10,  7,  3,  0,  7,  6,  6,  7,  2,  4,  2,  7,  6,  4,  2,  4,\n",
       "        4,  6,  6,  8,  5,  3,  6,  6,  5,  7,  5,  5,  4,  1,  2])"
      ]
     },
     "execution_count": 2,
     "metadata": {},
     "output_type": "execute_result"
    }
   ],
   "source": [
    "n = 100\n",
    "p = 0.05\n",
    "\n",
    "# Параметр seed=42 используется для установления начального значения генератора случайных чисел, чтобы можно было воспроизвести результаты в дальнейшем\n",
    "np.random.seed(42) \n",
    "data = np.random.binomial(n, p, size=100)\n",
    "data"
   ]
  },
  {
   "cell_type": "markdown",
   "metadata": {
    "id": "oSB9h-7-Aw61"
   },
   "source": [
    "**$2.$ Обработать выборку методом  \"сгруппированных данных\" и построить таблицу соответствующего статистического ряда.**"
   ]
  },
  {
   "cell_type": "code",
   "execution_count": 3,
   "metadata": {
    "colab": {
     "base_uri": "https://localhost:8080/"
    },
    "executionInfo": {
     "elapsed": 5,
     "status": "ok",
     "timestamp": 1675041836674,
     "user": {
      "displayName": "Никита Быковский",
      "userId": "03936530220962806273"
     },
     "user_tz": -180
    },
    "id": "YEPCW8UvAcRk",
    "outputId": "bafcbd29-92cd-4c8a-d56f-a159ff034390"
   },
   "outputs": [
    {
     "data": {
      "text/plain": [
       "0      1\n",
       "1      3\n",
       "2     11\n",
       "3     14\n",
       "4     19\n",
       "5     18\n",
       "6     11\n",
       "7     12\n",
       "8      4\n",
       "9      6\n",
       "10     1\n",
       "Name: Data, dtype: int64"
      ]
     },
     "execution_count": 3,
     "metadata": {},
     "output_type": "execute_result"
    }
   ],
   "source": [
    "df = pd.DataFrame(data, columns=['Data'])\n",
    "\n",
    "frequency_table = df['Data'].value_counts().sort_index()\n",
    "frequency_table"
   ]
  },
  {
   "cell_type": "markdown",
   "metadata": {
    "id": "pB2NiLpCBV7U"
   },
   "source": [
    "**$3.$ Вычислить выборочные среднее, дисперсию, асимметрию и эксцесс.**\n"
   ]
  },
  {
   "cell_type": "markdown",
   "metadata": {
    "id": "CpMeHadOINty"
   },
   "source": [
    "Выборочное среднее: $\\hat{\\mu} = \\frac{1}{n} \\sum_{i=1}^{n}x_i$"
   ]
  },
  {
   "cell_type": "code",
   "execution_count": 4,
   "metadata": {
    "colab": {
     "base_uri": "https://localhost:8080/"
    },
    "executionInfo": {
     "elapsed": 8,
     "status": "ok",
     "timestamp": 1675041853382,
     "user": {
      "displayName": "Никита Быковский",
      "userId": "03936530220962806273"
     },
     "user_tz": -180
    },
    "id": "GqiRi4crBs54",
    "outputId": "81f33b5a-8137-46f8-8739-7f7a13b20833"
   },
   "outputs": [
    {
     "data": {
      "text/plain": [
       "4.79"
      ]
     },
     "execution_count": 4,
     "metadata": {},
     "output_type": "execute_result"
    }
   ],
   "source": [
    "mean = df['Data'].mean()\n",
    "\n",
    "mean"
   ]
  },
  {
   "cell_type": "markdown",
   "metadata": {
    "id": "SCsnGSPTJSNd"
   },
   "source": [
    "Дисперсия: $\\hat{\\sigma}^2 = \\frac{1}{n} \\sum_{i=1}^{n}(x_i - \\hat{\\mu})^2$"
   ]
  },
  {
   "cell_type": "code",
   "execution_count": 5,
   "metadata": {
    "colab": {
     "base_uri": "https://localhost:8080/"
    },
    "executionInfo": {
     "elapsed": 350,
     "status": "ok",
     "timestamp": 1675041862005,
     "user": {
      "displayName": "Никита Быковский",
      "userId": "03936530220962806273"
     },
     "user_tz": -180
    },
    "id": "_Z5RaEkwEP-f",
    "outputId": "f5e8da5a-bdd3-413e-dcaa-d42a6f727723"
   },
   "outputs": [
    {
     "data": {
      "text/plain": [
       "4.6322222222222225"
      ]
     },
     "execution_count": 5,
     "metadata": {},
     "output_type": "execute_result"
    }
   ],
   "source": [
    "variance = df['Data'].var()\n",
    "\n",
    "variance"
   ]
  },
  {
   "cell_type": "markdown",
   "metadata": {
    "id": "LpWqN5d3KWzM"
   },
   "source": [
    "Ассиметрия: $\\hat{\\gamma_1} = \\frac{n}{(n-1)(n-2)} \\sum_{i=1}^{n} \\left(\\frac{x_i - \\hat{\\mu}}{\\hat{\\sigma}}\\right)^3$"
   ]
  },
  {
   "cell_type": "code",
   "execution_count": 6,
   "metadata": {
    "colab": {
     "base_uri": "https://localhost:8080/"
    },
    "executionInfo": {
     "elapsed": 5,
     "status": "ok",
     "timestamp": 1675041871729,
     "user": {
      "displayName": "Никита Быковский",
      "userId": "03936530220962806273"
     },
     "user_tz": -180
    },
    "id": "5EEupWx1ESpm",
    "outputId": "986c65d1-2936-4501-c6bc-5ad8f63d78b0"
   },
   "outputs": [
    {
     "data": {
      "text/plain": [
       "0.27793611582512595"
      ]
     },
     "execution_count": 6,
     "metadata": {},
     "output_type": "execute_result"
    }
   ],
   "source": [
    "skewness = df['Data'].skew()\n",
    "\n",
    "skewness"
   ]
  },
  {
   "cell_type": "markdown",
   "metadata": {
    "id": "0EdzxpdrKfbp"
   },
   "source": [
    "Эксцесс: $\\hat{\\gamma_2} = \\frac{n(n+1)}{(n-1)(n-2)(n-3)} \\sum_{i=1}^{n} \\left(\\frac{x_i - \\hat{\\mu}}{\\hat{\\sigma}}\\right)^4 - \\frac{3(n-1)^2}{(n-2)(n-3)}$"
   ]
  },
  {
   "cell_type": "code",
   "execution_count": 7,
   "metadata": {
    "colab": {
     "base_uri": "https://localhost:8080/"
    },
    "executionInfo": {
     "elapsed": 5,
     "status": "ok",
     "timestamp": 1675041880545,
     "user": {
      "displayName": "Никита Быковский",
      "userId": "03936530220962806273"
     },
     "user_tz": -180
    },
    "id": "gorm9aDlEUuM",
    "outputId": "a9dc37d8-8917-4140-99a7-197c724750d0"
   },
   "outputs": [
    {
     "data": {
      "text/plain": [
       "-0.4326009010683771"
      ]
     },
     "execution_count": 7,
     "metadata": {},
     "output_type": "execute_result"
    }
   ],
   "source": [
    "kurtosis = df['Data'].kurtosis()\n",
    "\n",
    "kurtosis"
   ]
  },
  {
   "cell_type": "markdown",
   "metadata": {
    "id": "tfnyFKBmKivp"
   },
   "source": [
    "**Построить гистограмму и график эмпирической функции распределения**"
   ]
  },
  {
   "cell_type": "code",
   "execution_count": 8,
   "metadata": {
    "colab": {
     "base_uri": "https://localhost:8080/",
     "height": 313
    },
    "executionInfo": {
     "elapsed": 1068,
     "status": "ok",
     "timestamp": 1675041894174,
     "user": {
      "displayName": "Никита Быковский",
      "userId": "03936530220962806273"
     },
     "user_tz": -180
    },
    "id": "3cU_QlYaJx0b",
    "outputId": "e64213e2-6eb7-4636-c76b-fb3fc6dfe981"
   },
   "outputs": [
    {
     "data": {
      "image/png": "[encoded data removed]",
      "text/plain": [
       "<Figure size 640x480 with 1 Axes>"
      ]
     },
     "metadata": {},
     "output_type": "display_data"
    }
   ],
   "source": [
    "plt.hist(df['Data'], bins=30, density=True, alpha=0.5, label='Histogram')\n",
    "\n",
    "def ecdf(data):\n",
    "    n = len(data)\n",
    "    x = np.sort(data)\n",
    "    y = np.arange(1, n+1) / n\n",
    "    return x, y\n",
    "\n",
    "x, y = ecdf(df['Data'])\n",
    "plt.plot(x, y, marker='.', linestyle='none', label='ECDF')\n",
    "\n",
    "plt.xlabel('Data')\n",
    "plt.ylabel('Frequency/Cumulative Probability')\n",
    "plt.title('Histogram and ECDF of Binomial Distribution (n=100, p=0.05)')\n",
    "plt.legend();"
   ]
  },
  {
   "cell_type": "markdown",
   "metadata": {
    "id": "v8vT7FajBcPy"
   },
   "source": [
    "**$4.$ Построить доверительные интервалы для выборочного среднего и дисперсии с надежностью 0,95.**\n"
   ]
  },
  {
   "cell_type": "markdown",
   "metadata": {
    "id": "xL8bu6TmSSQd"
   },
   "source": [
    "Доверительный интервал для среднего:\n",
    "$\\bar{x} \\pm z_{\\frac{\\alpha}{2}} \\frac{\\sigma}{\\sqrt{n}}$\n",
    "\n",
    "Доверительный интервал для дисперсии:\n",
    "$\\frac{(n-1)s^2}{\\chi^2_{\\frac{\\alpha}{2}}(n-1)} \\leq \\sigma^2 \\leq \\frac{(n-1)s^2}{\\chi^2_{1-\\frac{\\alpha}{2}}(n-1)}$\n",
    "\n",
    "где:\n",
    "\n",
    "$\\bar{x}$ - среднее значение выборки\n",
    "\n",
    "$z_{\\frac{\\alpha}{2}}$ - критическое значение стандартного нормального распределения с уровнем значимости $\\alpha$\n",
    "\n",
    "$\\sigma$ - стандартное отклонение выборки\n",
    "\n",
    "$n$ - размер выборки\n",
    "\n",
    "$s^2$ - дисперсия выборки\n",
    "\n",
    "$\\chi^2_{\\frac{\\alpha}{2}}(n-1)$ и $\\chi^2_{1-\\frac{\\alpha}{2}}(n-1)$ - критические значения распределения $\\chi^2$ с $(n-1)$ степенями свободы и уровнем значимости $\\frac{\\alpha}{2}$ и соответственно $1-\\frac{\\alpha}{2}$."
   ]
  },
  {
   "cell_type": "code",
   "execution_count": 9,
   "metadata": {
    "colab": {
     "base_uri": "https://localhost:8080/"
    },
    "executionInfo": {
     "elapsed": 9,
     "status": "ok",
     "timestamp": 1675041937621,
     "user": {
      "displayName": "Никита Быковский",
      "userId": "03936530220962806273"
     },
     "user_tz": -180
    },
    "id": "YOLL947xCf6i",
    "outputId": "5c93a1cc-3270-4683-d7dc-9a0da80bff6f"
   },
   "outputs": [
    {
     "name": "stdout",
     "output_type": "stream",
     "text": [
      "Доверительный интервал для среднего: (4.368164831777021, 5.211835168222979)\n",
      "Доверительный интервал для дисперсии: (3.3982482590829073, 5.948791896179669)\n"
     ]
    }
   ],
   "source": [
    "mean_confidence_interval = stats.norm.interval(0.95, loc=mean, scale=np.sqrt(variance/100))\n",
    "variance_confidence_interval = stats.chi2.interval(0.95, df=100-1, scale=variance/100)\n",
    "\n",
    "print(\"Доверительный интервал для среднего:\", mean_confidence_interval)\n",
    "print(\"Доверительный интервал для дисперсии:\", variance_confidence_interval)"
   ]
  },
  {
   "cell_type": "markdown",
   "metadata": {
    "id": "1GnlzyLGBc2K"
   },
   "source": [
    "**$5.$ Проверить статистическую гипотезу о соответствии выборочного закона распределения заданному в п.1 при помощи критериев Пирсона и Колмогорова (уровень значимости 0,05).**\n"
   ]
  },
  {
   "cell_type": "code",
   "execution_count": 10,
   "metadata": {
    "colab": {
     "base_uri": "https://localhost:8080/"
    },
    "executionInfo": {
     "elapsed": 332,
     "status": "ok",
     "timestamp": 1675041992214,
     "user": {
      "displayName": "Никита Быковский",
      "userId": "03936530220962806273"
     },
     "user_tz": -180
    },
    "id": "_0gJsDKcCn-a",
    "outputId": "b3e2613a-7d62-4652-a1d7-8c9cb06e51f0"
   },
   "outputs": [
    {
     "name": "stdout",
     "output_type": "stream",
     "text": [
      "критерий Пирсона: -0.03945418211361957 0.6967337987723925\n",
      "критерий Колмогорова-Смирнова: 0.14598130068571175 0.025282189280117162\n"
     ]
    }
   ],
   "source": [
    "pearson_statistic, pearson_p_value = stats.pearsonr(df['Data'], np.random.binomial(n, p, size=100))\n",
    "print(\"критерий Пирсона:\", pearson_statistic, pearson_p_value)\n",
    "\n",
    "kolmogorov_statistic, kolmogorov_p_value = stats.kstest(df['Data'], 'binom', args=(n,p))\n",
    "print(\"критерий Колмогорова-Смирнова:\", kolmogorov_statistic, kolmogorov_p_value)"
   ]
  },
  {
   "cell_type": "markdown",
   "metadata": {
    "id": "02xSc_TOKO-A"
   },
   "source": [
    "Гипотеза принимается, если значение p-value > 0.05, в противном случае она отвергается:"
   ]
  },
  {
   "cell_type": "code",
   "execution_count": 11,
   "metadata": {
    "colab": {
     "base_uri": "https://localhost:8080/"
    },
    "executionInfo": {
     "elapsed": 7,
     "status": "ok",
     "timestamp": 1675042004871,
     "user": {
      "displayName": "Никита Быковский",
      "userId": "03936530220962806273"
     },
     "user_tz": -180
    },
    "id": "RmL6wQzhSJXL",
    "outputId": "a1b714de-3af0-4641-c944-76fafef0522a"
   },
   "outputs": [
    {
     "name": "stdout",
     "output_type": "stream",
     "text": [
      "Выборочные данные не подчиняются заданному биномиальному распределению с n=100 и p=0,05\n"
     ]
    }
   ],
   "source": [
    "if (pearson_p_value > 0.05) and (kolmogorov_p_value > 0.05):\n",
    "    print(\"Выборочные данные подчиняются заданному биномиальному распределению с n=100 и p=0,05\")\n",
    "else:\n",
    "    print(\"Выборочные данные не подчиняются заданному биномиальному распределению с n=100 и p=0,05\")"
   ]
  },
  {
   "cell_type": "markdown",
   "metadata": {
    "id": "aMQBXAOIBf2M"
   },
   "source": [
    "**$6.$ Даны значения трёх факторов X, Y, Z каждый на двух уровнях (всего 8 наборов значений), для каждого из них известно экспериментальное значение (в задании – случайное). Найти методом полного факторного эксперимента линейное уравнение регрессии.**"
   ]
  },
  {
   "cell_type": "code",
   "execution_count": 12,
   "metadata": {},
   "outputs": [
    {
     "name": "stdout",
     "output_type": "stream",
     "text": [
      "                            OLS Regression Results                            \n",
      "==============================================================================\n",
      "Dep. Variable:                      y   R-squared:                       0.292\n",
      "Model:                            OLS   Adj. R-squared:                 -0.238\n",
      "Method:                 Least Squares   F-statistic:                    0.5508\n",
      "Date:                Mon, 30 Jan 2023   Prob (F-statistic):              0.674\n",
      "Time:                        06:19:39   Log-Likelihood:                -13.805\n",
      "No. Observations:                   8   AIC:                             35.61\n",
      "Df Residuals:                       4   BIC:                             35.93\n",
      "Df Model:                           3                                         \n",
      "Covariance Type:            nonrobust                                         \n",
      "==============================================================================\n",
      "                 coef    std err          t      P>|t|      [0.025      0.975]\n",
      "------------------------------------------------------------------------------\n",
      "const          3.4139      2.613      1.307      0.261      -3.840      10.668\n",
      "x1             0.3381      0.307      1.101      0.333      -0.515       1.191\n",
      "x2             0.2387      0.348      0.686      0.531      -0.728       1.205\n",
      "x3            -0.3277      0.485     -0.676      0.536      -1.673       1.018\n",
      "==============================================================================\n",
      "Omnibus:                        0.759   Durbin-Watson:                   2.202\n",
      "Prob(Omnibus):                  0.684   Jarque-Bera (JB):                0.530\n",
      "Skew:                          -0.015   Prob(JB):                        0.767\n",
      "Kurtosis:                       1.739   Cond. No.                         31.0\n",
      "==============================================================================\n",
      "\n",
      "Notes:\n",
      "[1] Standard Errors assume that the covariance matrix of the errors is correctly specified.\n",
      "Coefficients:  [ 3.41392975  0.33811099  0.23870134 -0.32768859]\n",
      "Intercept:  3.4139297487384757\n",
      "X:  0.33811099073628836\n",
      "Y:  0.23870134234020282\n",
      "Z:  -0.3276885909772953\n",
      "Уравнение регрессии с коэффициентами y = 3.41393 + 0.33811*X + 0.23870*Y + -0.32769*Z\n"
     ]
    },
    {
     "name": "stderr",
     "output_type": "stream",
     "text": [
      "F:\\my_code\\projects\\my_projects\\stat_data_analysis\\env\\lib\\site-packages\\scipy\\stats\\_stats_py.py:1736: UserWarning: kurtosistest only valid for n>=20 ... continuing anyway, n=8\n",
      "  warnings.warn(\"kurtosistest only valid for n>=20 ... continuing \"\n"
     ]
    }
   ],
   "source": [
    "# создаем случайные значения для каждого из 8 наборов\n",
    "n = 100\n",
    "p = 0.05\n",
    "\n",
    "# Генерируем случайные данные для трех факторов X, Y, Z на двух уровнях\n",
    "X = np.random.binomial(n, p, size=(8, 1))\n",
    "Y = np.random.binomial(n, p, size=(8, 1))\n",
    "Z = np.random.binomial(n, p, size=(8, 1))\n",
    "\n",
    "# Генерируем случайные экспериментальные значения\n",
    "E = np.random.normal(0, 1, size=(8, 1))\n",
    "\n",
    "# Объединяем факторы в единый массив\n",
    "data = np.hstack((X, Y, Z))\n",
    "\n",
    "# Определяем независимую переменную x\n",
    "x = sm.add_constant(data)\n",
    "\n",
    "# Определяем зависимую переменную y\n",
    "y = np.random.binomial(n, p, size=(8,1))\n",
    "\n",
    "# Проводим регрессионный анализ\n",
    "model = sm.OLS(y, x).fit()\n",
    "\n",
    "# выводим линейное уравнение регрессии\n",
    "# в выводе мы получим линейное уравнение регрессии вместе с дополнительной информацией, такой как коэффициенты, p-value и R-squared.\n",
    "print(model.summary());\n",
    "\n",
    "# выводим коэффициенты уравнения регрессии\n",
    "print(\"Coefficients: \", model.params)\n",
    "print(\"Intercept: \", model.params[0])\n",
    "print(\"X: \", model.params[1])\n",
    "print(\"Y: \", model.params[2])\n",
    "print(\"Z: \", model.params[3])\n",
    "\n",
    "# выводим уравнение регрессии с коэффициентами\n",
    "equation = \"y = {0:.5f} + {1:.5f}*X + {2:.5f}*Y + {3:.5f}*Z\".format(model.params[0], model.params[1], model.params[2], model.params[3])\n",
    "print('Уравнение регрессии с коэффициентами', equation)"
   ]
  },
  {
   "cell_type": "code",
   "execution_count": null,
   "metadata": {},
   "outputs": [],
   "source": []
  }
 ],
 "metadata": {
  "colab": {
   "authorship_tag": "ABX9TyNzmstEmzA1j21QXbpXC4Fr",
   "provenance": []
  },
  "kernelspec": {
   "display_name": "Python 3 (ipykernel)",
   "language": "python",
   "name": "python3"
  },
  "language_info": {
   "codemirror_mode": {
    "name": "ipython",
    "version": 3
   },
   "file_extension": ".py",
   "mimetype": "text/x-python",
   "name": "python",
   "nbconvert_exporter": "python",
   "pygments_lexer": "ipython3",
   "version": "3.10.7"
  }
 },
 "nbformat": 4,
 "nbformat_minor": 1
}
